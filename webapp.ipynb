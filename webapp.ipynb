{
 "cells": [
  {
   "cell_type": "code",
   "execution_count": 4,
   "id": "fac68d55",
   "metadata": {},
   "outputs": [
    {
     "name": "stdout",
     "output_type": "stream",
     "text": [
      "Defaulting to user installation because normal site-packages is not writeableNote: you may need to restart the kernel to use updated packages.\n",
      "\n",
      "Requirement already satisfied: streamlit in c:\\users\\dell\\appdata\\roaming\\python\\python39\\site-packages (1.22.0)\n",
      "Requirement already satisfied: blinker>=1.0.0 in c:\\users\\dell\\appdata\\roaming\\python\\python39\\site-packages (from streamlit) (1.6.2)\n",
      "Requirement already satisfied: pillow>=6.2.0 in d:\\anaconda\\lib\\site-packages (from streamlit) (9.0.1)\n",
      "Requirement already satisfied: cachetools>=4.0 in d:\\anaconda\\lib\\site-packages (from streamlit) (4.2.2)\n",
      "Requirement already satisfied: watchdog in d:\\anaconda\\lib\\site-packages (from streamlit) (2.1.6)\n",
      "Requirement already satisfied: packaging>=14.1 in d:\\anaconda\\lib\\site-packages (from streamlit) (21.3)\n",
      "Requirement already satisfied: pandas<3,>=0.25 in d:\\anaconda\\lib\\site-packages (from streamlit) (1.4.2)\n",
      "Requirement already satisfied: requests>=2.4 in d:\\anaconda\\lib\\site-packages (from streamlit) (2.27.1)\n",
      "Requirement already satisfied: protobuf<4,>=3.12 in d:\\anaconda\\lib\\site-packages (from streamlit) (3.19.1)\n",
      "Requirement already satisfied: click>=7.0 in d:\\anaconda\\lib\\site-packages (from streamlit) (8.0.4)\n",
      "Requirement already satisfied: gitpython!=3.1.19 in c:\\users\\dell\\appdata\\roaming\\python\\python39\\site-packages (from streamlit) (3.1.31)\n",
      "Requirement already satisfied: pyarrow>=4.0 in c:\\users\\dell\\appdata\\roaming\\python\\python39\\site-packages (from streamlit) (12.0.0)\n",
      "Requirement already satisfied: tzlocal>=1.1 in c:\\users\\dell\\appdata\\roaming\\python\\python39\\site-packages (from streamlit) (4.3)\n",
      "Requirement already satisfied: importlib-metadata>=1.4 in d:\\anaconda\\lib\\site-packages (from streamlit) (4.11.3)\n",
      "Requirement already satisfied: numpy in d:\\anaconda\\lib\\site-packages (from streamlit) (1.21.5)\n",
      "Requirement already satisfied: python-dateutil in d:\\anaconda\\lib\\site-packages (from streamlit) (2.8.2)\n",
      "Requirement already satisfied: pympler>=0.9 in c:\\users\\dell\\appdata\\roaming\\python\\python39\\site-packages (from streamlit) (1.0.1)\n",
      "Requirement already satisfied: altair<5,>=3.2.0 in c:\\users\\dell\\appdata\\roaming\\python\\python39\\site-packages (from streamlit) (4.2.2)\n",
      "Requirement already satisfied: tornado>=6.0.3 in d:\\anaconda\\lib\\site-packages (from streamlit) (6.1)\n",
      "Requirement already satisfied: rich>=10.11.0 in c:\\users\\dell\\appdata\\roaming\\python\\python39\\site-packages (from streamlit) (13.3.5)\n",
      "Requirement already satisfied: toml in d:\\anaconda\\lib\\site-packages (from streamlit) (0.10.2)\n",
      "Requirement already satisfied: validators>=0.2 in c:\\users\\dell\\appdata\\roaming\\python\\python39\\site-packages (from streamlit) (0.20.0)\n",
      "Requirement already satisfied: typing-extensions>=3.10.0.0 in d:\\anaconda\\lib\\site-packages (from streamlit) (4.1.1)\n",
      "Requirement already satisfied: pydeck>=0.1.dev5 in c:\\users\\dell\\appdata\\roaming\\python\\python39\\site-packages (from streamlit) (0.8.1b0)\n",
      "Requirement already satisfied: tenacity<9,>=8.0.0 in d:\\anaconda\\lib\\site-packages (from streamlit) (8.0.1)\n",
      "Requirement already satisfied: jsonschema>=3.0 in d:\\anaconda\\lib\\site-packages (from altair<5,>=3.2.0->streamlit) (4.4.0)\n",
      "Requirement already satisfied: toolz in d:\\anaconda\\lib\\site-packages (from altair<5,>=3.2.0->streamlit) (0.11.2)\n",
      "Requirement already satisfied: entrypoints in d:\\anaconda\\lib\\site-packages (from altair<5,>=3.2.0->streamlit) (0.4)\n",
      "Requirement already satisfied: jinja2 in d:\\anaconda\\lib\\site-packages (from altair<5,>=3.2.0->streamlit) (2.11.3)\n",
      "Requirement already satisfied: colorama in d:\\anaconda\\lib\\site-packages (from click>=7.0->streamlit) (0.4.4)\n",
      "Requirement already satisfied: gitdb<5,>=4.0.1 in c:\\users\\dell\\appdata\\roaming\\python\\python39\\site-packages (from gitpython!=3.1.19->streamlit) (4.0.10)\n",
      "Requirement already satisfied: smmap<6,>=3.0.1 in c:\\users\\dell\\appdata\\roaming\\python\\python39\\site-packages (from gitdb<5,>=4.0.1->gitpython!=3.1.19->streamlit) (5.0.0)\n",
      "Requirement already satisfied: zipp>=0.5 in d:\\anaconda\\lib\\site-packages (from importlib-metadata>=1.4->streamlit) (3.7.0)\n",
      "Requirement already satisfied: attrs>=17.4.0 in d:\\anaconda\\lib\\site-packages (from jsonschema>=3.0->altair<5,>=3.2.0->streamlit) (21.4.0)\n",
      "Requirement already satisfied: pyrsistent!=0.17.0,!=0.17.1,!=0.17.2,>=0.14.0 in d:\\anaconda\\lib\\site-packages (from jsonschema>=3.0->altair<5,>=3.2.0->streamlit) (0.18.0)\n",
      "Requirement already satisfied: pyparsing!=3.0.5,>=2.0.2 in d:\\anaconda\\lib\\site-packages (from packaging>=14.1->streamlit) (3.0.4)\n",
      "Requirement already satisfied: pytz>=2020.1 in d:\\anaconda\\lib\\site-packages (from pandas<3,>=0.25->streamlit) (2021.3)\n",
      "Requirement already satisfied: MarkupSafe>=0.23 in d:\\anaconda\\lib\\site-packages (from jinja2->altair<5,>=3.2.0->streamlit) (2.0.1)\n",
      "Requirement already satisfied: six>=1.5 in d:\\anaconda\\lib\\site-packages (from python-dateutil->streamlit) (1.16.0)\n",
      "Requirement already satisfied: charset-normalizer~=2.0.0 in d:\\anaconda\\lib\\site-packages (from requests>=2.4->streamlit) (2.0.4)\n",
      "Requirement already satisfied: idna<4,>=2.5 in d:\\anaconda\\lib\\site-packages (from requests>=2.4->streamlit) (3.3)\n",
      "Requirement already satisfied: urllib3<1.27,>=1.21.1 in d:\\anaconda\\lib\\site-packages (from requests>=2.4->streamlit) (1.26.9)\n",
      "Requirement already satisfied: certifi>=2017.4.17 in d:\\anaconda\\lib\\site-packages (from requests>=2.4->streamlit) (2021.10.8)\n",
      "Requirement already satisfied: pygments<3.0.0,>=2.13.0 in c:\\users\\dell\\appdata\\roaming\\python\\python39\\site-packages (from rich>=10.11.0->streamlit) (2.15.1)\n",
      "Requirement already satisfied: markdown-it-py<3.0.0,>=2.2.0 in c:\\users\\dell\\appdata\\roaming\\python\\python39\\site-packages (from rich>=10.11.0->streamlit) (2.2.0)\n",
      "Requirement already satisfied: mdurl~=0.1 in c:\\users\\dell\\appdata\\roaming\\python\\python39\\site-packages (from markdown-it-py<3.0.0,>=2.2.0->rich>=10.11.0->streamlit) (0.1.2)\n",
      "Requirement already satisfied: tzdata in c:\\users\\dell\\appdata\\roaming\\python\\python39\\site-packages (from tzlocal>=1.1->streamlit) (2023.3)\n",
      "Requirement already satisfied: pytz-deprecation-shim in c:\\users\\dell\\appdata\\roaming\\python\\python39\\site-packages (from tzlocal>=1.1->streamlit) (0.1.0.post0)\n",
      "Requirement already satisfied: decorator>=3.4.0 in d:\\anaconda\\lib\\site-packages (from validators>=0.2->streamlit) (5.1.1)\n"
     ]
    }
   ],
   "source": [
    "pip install streamlit"
   ]
  },
  {
   "cell_type": "code",
   "execution_count": 7,
   "id": "18cbf4e4",
   "metadata": {},
   "outputs": [
    {
     "name": "stdout",
     "output_type": "stream",
     "text": [
      "Overwriting app.py\n"
     ]
    }
   ],
   "source": [
    "%%writefile app.py\n",
    "import cv2\n",
    "import numpy as np\n",
    "import streamlit as st\n",
    "import tensorflow as tf\n",
    "from tensorflow.keras.preprocessing import image\n",
    "from tensorflow.keras.applications.mobilenet_v2 import MobileNetV2,preprocess_input as mobilenet_v2_preprocess_input\n",
    "st.header(\"Hidden Hunger\")\n",
    "st.write(\"To find micronutrient deficiency using human nails and eyes\")\n",
    "uploaded_file = st.file_uploader(\"Choose a image file\", type=\"jpg\")\n",
    "model = tf.keras.models.load_model(r\"D:\\project\\resnet152v2nail.h5\")\n",
    "    \n",
    "map_dict = {0: 'boron',\n",
    "            1: 'healthy',\n",
    "            2: 'iron',\n",
    "            3: 'manganese',\n",
    "            4: 'zinc'}\n",
    "\n",
    "if uploaded_file is not None:\n",
    "    # Convert the file to an opencv image.\n",
    "    file_bytes = np.asarray(bytearray(uploaded_file.read()), dtype=np.uint8)\n",
    "    opencv_image = cv2.imdecode(file_bytes, 1)\n",
    "    opencv_image = cv2.cvtColor(opencv_image, cv2.COLOR_BGR2RGB)\n",
    "    resized = cv2.resize(opencv_image,(224,224))\n",
    "    # Now do something with the image! For example, let's display it:\n",
    "    st.image(opencv_image, channels=\"RGB\")\n",
    "\n",
    "    resized = mobilenet_v2_preprocess_input(resized)\n",
    "    img_reshape = resized[np.newaxis,...]\n",
    "\n",
    "    Genrate_pred = st.button(\"Generate Prediction\")    \n",
    "    if Genrate_pred:\n",
    "        prediction = model.predict(img_reshape).argmax()\n",
    "        st.title(\"Predicted Label for the image is {}\".format(map_dict [prediction]))\n",
    "            \n"
   ]
  },
  {
   "cell_type": "code",
   "execution_count": null,
   "id": "69914af7",
   "metadata": {},
   "outputs": [],
   "source": []
  }
 ],
 "metadata": {
  "kernelspec": {
   "display_name": "Python 3 (ipykernel)",
   "language": "python",
   "name": "python3"
  },
  "language_info": {
   "codemirror_mode": {
    "name": "ipython",
    "version": 3
   },
   "file_extension": ".py",
   "mimetype": "text/x-python",
   "name": "python",
   "nbconvert_exporter": "python",
   "pygments_lexer": "ipython3",
   "version": "3.9.12"
  }
 },
 "nbformat": 4,
 "nbformat_minor": 5
}
